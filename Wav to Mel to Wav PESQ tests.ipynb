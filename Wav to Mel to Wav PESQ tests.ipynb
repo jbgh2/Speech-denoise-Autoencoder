{
 "cells": [
  {
   "cell_type": "markdown",
   "metadata": {},
   "source": [
    "# Compare MEL parameters, using PESQ MOS, for a range of MEL implementations.\n",
    "\n",
    "- First test uses complex numbers and doesn't do any power spectrum compression.\n",
    "- Second test uses the same code as the first test but does log power compression.\n",
    "- Third test uses Griffin-Lim to estimate the missing phase info during reconstruction.\n",
    "\n",
    "See conclusions at the end for recommended settings."
   ]
  },
  {
   "cell_type": "code",
   "execution_count": 1,
   "metadata": {},
   "outputs": [
    {
     "name": "stdout",
     "output_type": "stream",
     "text": [
      "Tools: D:\\Code\\Denoising\\E0-Mel\\..\\Tools\n",
      "PESQ: D:\\Code\\Denoising\\E0-Mel\\..\\Tools\\pesq.exe\n",
      "Data dir: D:\\Code\\Denoising\\E0-Mel\\data\n"
     ]
    }
   ],
   "source": [
    "import os\n",
    "tools_path = os.path.join(os.getcwd(), '..', 'Tools')\n",
    "print(\"Tools:\", tools_path)\n",
    "\n",
    "pesq_path = os.path.join(tools_path, 'pesq.exe')\n",
    "print('PESQ:', pesq_path)\n",
    "\n",
    "#Add tools dir to path\n",
    "import sys\n",
    "sys.path.append(tools_path)\n",
    "\n",
    "import AVPreprocess as avp\n",
    "import WavMelConverter as wmc\n",
    "import numpy as np\n",
    "import librosa\n",
    "from scipy.io import wavfile\n",
    "\n",
    "#Paths - assumes notebook is running in a experiment directory.\n",
    "base_dir = os.path.join(os.getcwd())\n",
    "\n",
    "data_dir = os.path.join(base_dir, 'data')\n",
    "print(\"Data dir:\", data_dir)\n",
    "\n",
    "input_dir = os.path.join(data_dir, 'raw')\n",
    "base_output_dir = os.path.join(data_dir, 'results')\n",
    "os.makedirs(base_output_dir, exist_ok=True)"
   ]
  },
  {
   "cell_type": "code",
   "execution_count": 2,
   "metadata": {},
   "outputs": [],
   "source": [
    "#Shared range of values to try\n",
    "\n",
    "start_freq = 300.0\n",
    "end_freq = 8000.0\n",
    "\n",
    "#Values outside these ranges led to combinations that created empty bins, non-real values or internal errors because of mis-sized arrays.\n",
    "sr_range = [16000, 32000, 48000]\n",
    "fft_range = [1024, 2048]\n",
    "step_range = [32, 64]\n",
    "mel_bin_range = [80, 100, 120]\n",
    "\n",
    "#test_file = os.path.join(input_dir, 'bush-16k.wav') #sample used in original WAV->MEL->WAV code\n",
    "#output_file_base = \"bush\"\n",
    "#Best MEL parameters and PESQ score: ((16000, 1024, 64, 120), 2.879)\n",
    "#Also good: 32000 1024 64 120 = 2.824\n",
    "\n",
    "test_file = os.path.join(input_dir, '17_en-US-Wavenet-A_0_14-2-C.wav') #one sec of aviation text to speech\n",
    "output_file_base = \"tts\"\n"
   ]
  },
  {
   "cell_type": "code",
   "execution_count": 3,
   "metadata": {},
   "outputs": [
    {
     "name": "stdout",
     "output_type": "stream",
     "text": [
      "Test PESQ using wav: D:\\Code\\Denoising\\E0-Mel\\data\\raw\\17_en-US-Wavenet-A_0_14-2-C.wav\n",
      "Command: D:\\Code\\Denoising\\E0-Mel\\..\\Tools\\pesq.exe +16000 D:\\Code\\Denoising\\E0-Mel\\data\\raw\\17_en-US-Wavenet-A_0_14-2-C.wav D:\\Code\\Denoising\\E0-Mel\\data\\raw\\17_en-US-Wavenet-A_0_14-2-C.wav\n",
      "Raw results: P.862 Prediction (Raw MOS, MOS-LQO):  = 4.500\t4.549\n",
      "MOS: 4.5\n"
     ]
    },
    {
     "data": {
      "text/plain": [
       "4.5"
      ]
     },
     "execution_count": 3,
     "metadata": {},
     "output_type": "execute_result"
    }
   ],
   "source": [
    "def get_pesq_mos(pesq_path, clean_wav, degraded_wav, verbose=True):\n",
    "    \"\"\"\n",
    "    Compare degraded_wav to clean_wav using PESQ.\n",
    "    Returns float MOS score in range -0.5-4.5 (?!)\n",
    "    \"\"\"\n",
    "    \n",
    "    if verbose: \n",
    "        print(f'Command: {pesq_path} +16000 {clean_wav} {degraded_wav}')\n",
    "    pesq_output = !{pesq_path} +16000 {clean_wav} {degraded_wav}\n",
    "    results = pesq_output[-1]\n",
    "    if verbose:\n",
    "        print(\"Raw results:\", results)\n",
    "\n",
    "    mos = float(results.split('=')[1].split('\\t')[0].strip())\n",
    "    if verbose:\n",
    "        print(\"MOS:\", mos)\n",
    "    \n",
    "    return mos\n",
    "\n",
    "#Test PESQ\n",
    "print(\"Test PESQ using wav:\", test_file)\n",
    "get_pesq_mos(pesq_path, test_file, test_file)"
   ]
  },
  {
   "cell_type": "code",
   "execution_count": 4,
   "metadata": {},
   "outputs": [],
   "source": [
    "def test_wav_to_mel_to_wav(test_file, output_base, output_dir, wav_to_mel_func, mel_to_wav_func,\n",
    "                            sr_range, fft_range, step_range, mel_bin_range, pesq_path):\n",
    "\n",
    "    \n",
    "    res_shape = (len(sr_range), len(fft_range), len(step_range), len(mel_bin_range))\n",
    "    mos_results = np.zeros(res_shape)\n",
    "    mel_params = np.zeros(res_shape)\n",
    "    \n",
    "    total_tests = mos_results.size\n",
    "    cur_test = 0\n",
    "    \n",
    "    for sr_idx, sr_in in enumerate(sr_range):\n",
    "        orig_wav, sr = librosa.core.load(test_file, sr=sr_in)\n",
    "\n",
    "        for fft_idx, fft_size in enumerate(fft_range):\n",
    "            for step_idx, step_size in enumerate(step_range):\n",
    "                for mel_idx, n_mels in enumerate(mel_bin_range):\n",
    "                    \n",
    "                    cur_test += 1\n",
    "                    \n",
    "                    output_filename = f\"{output_base}_{sr}_{fft_size}_{step_size}_{n_mels}\"\n",
    "                    \n",
    "                    M = wav_to_mel_func(orig_wav, sr, fft_size, n_mels, step_size)\n",
    "                    mel_params[sr_idx, fft_idx, step_idx, mel_idx] = M.shape[0] * M.shape[1]\n",
    "                    \n",
    "                    mel_path = os.path.join(output_dir, f\"{output_filename}.npy\")\n",
    "                    np.save(mel_path, M)\n",
    "\n",
    "                    print(f\"{cur_test}/{total_tests}. sr: {sr}, size: {fft_size}, step: {step_size}, n_mels: {n_mels} = {M.shape}, {np.min(M)},{np.max(M)}\")\n",
    "\n",
    "                    T = mel_to_wav_func(M, sr, fft_size, n_mels, step_size)\n",
    "\n",
    "                    #Check the length hasn't changed\n",
    "                    if len(T) != len(orig_wav):\n",
    "                        print(f\"Scaling output wav length ({len(T)}) to match original wav length ({len(orig_wav)})\")\n",
    "                        scale = len(orig_wav) / len(T)\n",
    "                        new_sr = sr * scale\n",
    "                        T = librosa.resample(T, sr, new_sr)\n",
    "            \n",
    "                    #Resample back to 16k so PESQ can work\n",
    "                    resamp_T = librosa.resample(T, sr, 16000)\n",
    "\n",
    "                    #Scale amplitude into -1 to 1 and then convert to int16\n",
    "                    Tint = (resamp_T/max(resamp_T)) * (32767 * 0.9) #Don't go to max vol    \n",
    "                    \n",
    "                    wav_path = os.path.join(output_dir, f\"{output_filename}.wav\")\n",
    "                    wavfile.write(wav_path,16000,Tint.astype('int16'))\n",
    "\n",
    "                    #PESQ test against original file\n",
    "                    mos = get_pesq_mos(pesq_path, test_file, wav_path, verbose=False)\n",
    "                    print(\"Test:\", sr_in, fft_size, step_size, n_mels, \"=\", mos)\n",
    "                    mos_results[sr_idx, fft_idx, step_idx, mel_idx] = mos\n",
    "                    \n",
    "    return mos_results, mel_params\n"
   ]
  },
  {
   "cell_type": "code",
   "execution_count": 5,
   "metadata": {},
   "outputs": [],
   "source": [
    "#Get best parameters from results\n",
    "def get_best_parameters(results, sr_range, fft_range, step_range, mel_bin_range):\n",
    "    best_indices = np.unravel_index(np.argmax(results), results.shape)\n",
    "    best_mos = results[best_indices]\n",
    "    print(best_indices, best_mos)\n",
    "   \n",
    "    return get_parameters_for_indices(best_indices, sr_range, fft_range, step_range, mel_bin_range), best_mos\n",
    "\n",
    "def get_parameters_for_indices(indices, sr_range, fft_range, step_range, mel_bin_range):\n",
    "    sr = sr_range[indices[0]]\n",
    "    fft = fft_range[indices[1]]\n",
    "    step = step_range[indices[2]]\n",
    "    mels = mel_bin_range[indices[3]]  \n",
    "    \n",
    "    return (sr, fft, step, mels)\n",
    "\n",
    "def top_n_results(results, mel_shapes, sr_range, fft_range, step_range, mel_bin_range, top_n=5):\n",
    "    \n",
    "    if top_n == None: #return them all\n",
    "        n = None\n",
    "    else:\n",
    "        n = min(top_n, results.size)\n",
    "        if n != top_n:\n",
    "            print(f\"top_n ({top_n}) > results.size ({results.size}). Returning all.\")\n",
    "        \n",
    "    res_shape = results.shape\n",
    "    unravel = np.argsort(results, axis=None)\n",
    "    rev_idx = [i for i in unravel[::-1]] #reverse\n",
    "    top_n_idx = rev_idx[:n]\n",
    "    mos_sorted = np.unravel_index(top_n_idx, res_shape) \n",
    "    \n",
    "    top_results = []\n",
    "    \n",
    "    for i in range(len(mos_sorted[0])):\n",
    "        idx = (mos_sorted[0][i], mos_sorted[1][i], mos_sorted[2][i], mos_sorted[3][i]) \n",
    "        top_results.append( (get_parameters_for_indices(idx, sr_range, fft_range, step_range, mel_bin_range), results[idx], mel_shapes[idx]) )\n",
    "        \n",
    "    return top_results\n"
   ]
  },
  {
   "cell_type": "markdown",
   "metadata": {},
   "source": [
    "## Complex MEL spectrogram without log power scaling\n",
    "\n",
    "This is the most reversable way of doing the MEL encoding.\n",
    "It maintains both real and imaginary components, and doesn't do any log scaling."
   ]
  },
  {
   "cell_type": "code",
   "execution_count": 6,
   "metadata": {
    "scrolled": true
   },
   "outputs": [
    {
     "name": "stdout",
     "output_type": "stream",
     "text": [
      "1/36. sr: 16000, size: 1024, step: 32, n_mels: 80 = (436, 80), (-6.703327502351268+3.5117883181990246j),(7.709026427789632+0.4048744708531423j)\n",
      "Scaling output wav length (14976) to match original wav length (16000)\n",
      "Test: 16000 1024 32 80 = 1.141\n",
      "2/36. sr: 16000, size: 1024, step: 32, n_mels: 100 = (436, 100), (-10.338551615076904-2.4593682109563804j),(11.388084649186275+0.8750742649742576j)\n",
      "Scaling output wav length (14976) to match original wav length (16000)\n",
      "Test: 16000 1024 32 100 = 1.197\n",
      "3/36. sr: 16000, size: 1024, step: 32, n_mels: 120 = (436, 120), (-15.1538277950272-7.457563429780431j),(14.992685839796026+7.5644275580739295j)\n",
      "Scaling output wav length (14976) to match original wav length (16000)\n",
      "Test: 16000 1024 32 120 = 1.085\n",
      "4/36. sr: 16000, size: 1024, step: 64, n_mels: 80 = (218, 80), (-6.703327502351268+3.5117883181990246j),(6.730106616131826-2.4028507453531174j)\n",
      "Scaling output wav length (14976) to match original wav length (16000)\n",
      "Test: 16000 1024 64 80 = 1.178\n",
      "5/36. sr: 16000, size: 1024, step: 64, n_mels: 100 = (218, 100), (-9.976789517976174-3.8417899799398056j),(10.455402668288269-3.393659004513501j)\n",
      "Scaling output wav length (14976) to match original wav length (16000)\n",
      "Test: 16000 1024 64 100 = 1.168\n",
      "6/36. sr: 16000, size: 1024, step: 64, n_mels: 120 = (218, 120), (-15.1538277950272-7.457563429780431j),(14.992685839796026+7.5644275580739295j)\n",
      "Scaling output wav length (14976) to match original wav length (16000)\n",
      "Test: 16000 1024 64 120 = 1.106\n",
      "7/36. sr: 16000, size: 2048, step: 32, n_mels: 80 = (372, 80), (-2.998455240207859-0.6525181211913323j),(3.000565628444214-1.0502275827152536j)\n",
      "Scaling output wav length (13952) to match original wav length (16000)\n",
      "Test: 16000 2048 32 80 = 0.714\n",
      "8/36. sr: 16000, size: 2048, step: 32, n_mels: 100 = (372, 100), (-4.063393777447494-2.0636775998852577j),(4.037569236288647+0.0681710597718137j)\n",
      "Scaling output wav length (13952) to match original wav length (16000)\n",
      "Test: 16000 2048 32 100 = 0.749\n",
      "9/36. sr: 16000, size: 2048, step: 32, n_mels: 120 = (372, 120), (-5.4739862366173675-2.67349571228793j),(5.536692993748251+3.0328904547176845j)\n",
      "Scaling output wav length (13952) to match original wav length (16000)\n",
      "Test: 16000 2048 32 120 = 0.615\n",
      "10/36. sr: 16000, size: 2048, step: 64, n_mels: 80 = (186, 80), (-2.998455240207859-0.6525181211913323j),(2.9321435174909234+0.805261108400931j)\n",
      "Scaling output wav length (13952) to match original wav length (16000)\n",
      "Test: 16000 2048 64 80 = 0.748\n",
      "11/36. sr: 16000, size: 2048, step: 64, n_mels: 100 = (186, 100), (-4.063393777447494-2.0636775998852577j),(3.9524630922513135+2.183884159959585j)\n",
      "Scaling output wav length (13952) to match original wav length (16000)\n",
      "Test: 16000 2048 64 100 = 1.016\n",
      "12/36. sr: 16000, size: 2048, step: 64, n_mels: 120 = (186, 120), (-5.4739862366173675-2.67349571228793j),(5.536692993748251+3.0328904547176845j)\n",
      "Scaling output wav length (13952) to match original wav length (16000)\n",
      "Test: 16000 2048 64 120 = 1.213\n",
      "13/36. sr: 32000, size: 1024, step: 32, n_mels: 80 = (936, 80), (-37.50373132835174+3.9922054291413005j),(38.20854460442635-5.901485539160828j)\n",
      "Scaling output wav length (30976) to match original wav length (32000)\n",
      "Test: 32000 1024 32 80 = 1.787\n",
      "14/36. sr: 32000, size: 1024, step: 32, n_mels: 100 = (936, 100), (-68.86392520234179+6.204328950683387j),(68.35317054312713-7.781672420283915j)\n",
      "Scaling output wav length (30976) to match original wav length (32000)\n",
      "Test: 32000 1024 32 100 = 1.805\n",
      "15/36. sr: 32000, size: 1024, step: 32, n_mels: 120 = (936, 120), (-71.75804621481058+6.408477980871026j),(71.13511110423327-7.955188195788722j)\n",
      "Scaling output wav length (30976) to match original wav length (32000)\n",
      "Test: 32000 1024 32 120 = 1.872\n",
      "16/36. sr: 32000, size: 1024, step: 64, n_mels: 80 = (468, 80), (-34.92026240052514-3.0516039448065984j),(36.72965364545391-5.012973404774169j)\n",
      "Scaling output wav length (30976) to match original wav length (32000)\n",
      "Test: 32000 1024 64 80 = 1.733\n",
      "17/36. sr: 32000, size: 1024, step: 64, n_mels: 100 = (468, 100), (-53.70808337283914-41.691092083642744j),(54.25859123980848-9.404561544416726j)\n",
      "Scaling output wav length (30976) to match original wav length (32000)\n",
      "Test: 32000 1024 64 100 = 1.775\n",
      "18/36. sr: 32000, size: 1024, step: 64, n_mels: 120 = (468, 120), (-55.77248967085687-43.49541972042029j),(59.68408145891055-9.440127166935326j)\n",
      "Scaling output wav length (30976) to match original wav length (32000)\n",
      "Test: 32000 1024 64 120 = 1.836\n",
      "19/36. sr: 32000, size: 2048, step: 32, n_mels: 80 = (872, 80), (-15.52371863286247+2.224938301121702j),(15.439723080859807+0.8105740527981266j)\n",
      "Scaling output wav length (29952) to match original wav length (32000)\n",
      "Test: 32000 2048 32 80 = 1.141\n",
      "20/36. sr: 32000, size: 2048, step: 32, n_mels: 100 = (872, 100), (-23.26236468834745+2.630901101119852j),(22.8041329155928+1.7543031797993334j)\n",
      "Scaling output wav length (29952) to match original wav length (32000)\n",
      "Test: 32000 2048 32 100 = 1.204\n",
      "21/36. sr: 32000, size: 2048, step: 32, n_mels: 120 = (872, 120), (-31.754091273263324+10.419149174094112j),(32.0572505582862-11.004990222995659j)\n",
      "Scaling output wav length (29952) to match original wav length (32000)\n",
      "Test: 32000 2048 32 120 = 1.139\n",
      "22/36. sr: 32000, size: 2048, step: 64, n_mels: 80 = (436, 80), (-13.427657071427623+7.033185211763819j),(15.439723080859807+0.8105740527981266j)\n",
      "Scaling output wav length (29952) to match original wav length (32000)\n",
      "Test: 32000 2048 64 80 = 1.141\n",
      "23/36. sr: 32000, size: 2048, step: 64, n_mels: 100 = (436, 100), (-20.685322072053403-4.910763662598769j),(22.8041329155928+1.7543031797993334j)\n",
      "Scaling output wav length (29952) to match original wav length (32000)\n",
      "Test: 32000 2048 64 100 = 1.197\n",
      "24/36. sr: 32000, size: 2048, step: 64, n_mels: 120 = (436, 120), (-30.334977324714053-14.917277872401591j),(30.021958579558675+15.141199008508552j)\n",
      "Scaling output wav length (29952) to match original wav length (32000)\n",
      "Test: 32000 2048 64 120 = 1.085\n",
      "25/36. sr: 48000, size: 1024, step: 32, n_mels: 80 = (1436, 80), (-55.65000981069448-8.428336503174425j),(55.363674489552224+10.814161304465241j)\n",
      "Scaling output wav length (46976) to match original wav length (48000)\n",
      "Test: 48000 1024 32 80 = 2.968\n",
      "26/36. sr: 48000, size: 1024, step: 32, n_mels: 100 = (1436, 100), (-67.71066548885453-10.309606847766382j),(66.99188191987389+13.386987123038676j)\n",
      "Scaling output wav length (46976) to match original wav length (48000)\n",
      "Test: 48000 1024 32 100 = 3.003\n",
      "27/36. sr: 48000, size: 1024, step: 32, n_mels: 120 = (1436, 120), (-67.71066548885453-10.309606847766382j),(66.99188191987389+13.386987123038676j)\n",
      "Scaling output wav length (46976) to match original wav length (48000)\n",
      "Test: 48000 1024 32 120 = 2.742\n",
      "28/36. sr: 48000, size: 1024, step: 64, n_mels: 80 = (718, 80), (-53.46725271639875+18.130538941284332j),(52.53559276493651-17.257506811006127j)\n",
      "Scaling output wav length (46976) to match original wav length (48000)\n",
      "Test: 48000 1024 64 80 = 2.853\n",
      "29/36. sr: 48000, size: 1024, step: 64, n_mels: 100 = (718, 100), (-64.88096179247168+21.807995605464484j),(63.5795389016185-20.655992302008706j)\n",
      "Scaling output wav length (46976) to match original wav length (48000)\n",
      "Test: 48000 1024 64 100 = 2.939\n",
      "30/36. sr: 48000, size: 1024, step: 64, n_mels: 120 = (718, 120), (-64.88096179247168+21.807995605464484j),(63.5795389016185-20.655992302008706j)\n",
      "Scaling output wav length (46976) to match original wav length (48000)\n",
      "Test: 48000 1024 64 120 = 2.687\n",
      "31/36. sr: 48000, size: 2048, step: 32, n_mels: 80 = (1372, 80), (-43.66327061778538-0.739405631157561j),(42.76219789587847-2.361348433084889j)\n",
      "Scaling output wav length (45952) to match original wav length (48000)\n",
      "Test: 48000 2048 32 80 = 1.607\n",
      "32/36. sr: 48000, size: 2048, step: 32, n_mels: 100 = (1372, 100), (-58.501916918884554+10.392254955631007j),(59.50870511309718-4.542371731341175j)\n",
      "Scaling output wav length (45952) to match original wav length (48000)\n",
      "Test: 48000 2048 32 100 = 1.228\n",
      "33/36. sr: 48000, size: 2048, step: 32, n_mels: 120 = (1372, 120), (-93.9238966718059+14.23650577666223j),(94.96370947756557-4.699227022149822j)\n",
      "Scaling output wav length (45952) to match original wav length (48000)\n",
      "Test: 48000 2048 32 120 = 1.501\n",
      "34/36. sr: 48000, size: 2048, step: 64, n_mels: 80 = (686, 80), (-38.40356449960967+16.662150110417148j),(38.276786545179945-20.795413404301144j)\n"
     ]
    },
    {
     "name": "stdout",
     "output_type": "stream",
     "text": [
      "Scaling output wav length (45952) to match original wav length (48000)\n",
      "Test: 48000 2048 64 80 = 1.599\n",
      "35/36. sr: 48000, size: 2048, step: 64, n_mels: 100 = (686, 100), (-58.501916918884554+10.392254955631007j),(54.742792366237154-11.319856713258666j)\n",
      "Scaling output wav length (45952) to match original wav length (48000)\n",
      "Test: 48000 2048 64 100 = 1.262\n",
      "36/36. sr: 48000, size: 2048, step: 64, n_mels: 120 = (686, 120), (-93.9238966718059+14.23650577666223j),(80.38275572143961-4.136369800204549j)\n",
      "Scaling output wav length (45952) to match original wav length (48000)\n",
      "Test: 48000 2048 64 120 = 1.488\n"
     ]
    }
   ],
   "source": [
    "complex_output_dir = os.path.join(base_output_dir, \"raw_mel_with_phase\")\n",
    "os.makedirs(complex_output_dir, exist_ok=True)\n",
    "\n",
    "def complex_mel_to_wav(M, sr, fft_size, n_mels, step_size):\n",
    "    T = avp.mel_to_time(M, sr, fft_size, n_mels, step_size)\n",
    "    Tint = (T/max(T)) * (32767 * 0.9) #Don't go to max vol    \n",
    "    return Tint\n",
    "\n",
    "complex_wav_to_mel = avp.time_to_mel\n",
    "\n",
    "complex_results, complex_mel_params = test_wav_to_mel_to_wav(test_file, output_file_base, complex_output_dir, \\\n",
    "                                         complex_wav_to_mel, complex_mel_to_wav, \\\n",
    "                                         sr_range, fft_range, step_range, mel_bin_range, pesq_path)"
   ]
  },
  {
   "cell_type": "code",
   "execution_count": 7,
   "metadata": {},
   "outputs": [
    {
     "name": "stdout",
     "output_type": "stream",
     "text": [
      "(2, 0, 0, 1) 3.003\n"
     ]
    },
    {
     "data": {
      "text/plain": [
       "((48000, 1024, 32, 100), 3.003)"
      ]
     },
     "execution_count": 7,
     "metadata": {},
     "output_type": "execute_result"
    }
   ],
   "source": [
    "get_best_parameters(complex_results, sr_range, fft_range, step_range, mel_bin_range)"
   ]
  },
  {
   "cell_type": "markdown",
   "metadata": {},
   "source": [
    "## Test 2: Log power spectrum MEL. \n",
    "\n",
    "Mel spectrum is created and then log scaled (which removed the imaginary components)\n",
    "Imaginary values are discarded and then re-filled with 0.0 during reconstruction.\n",
    "\n",
    "This naive implementation returns garbage that make no sense but gives PESQ scores ~2"
   ]
  },
  {
   "cell_type": "code",
   "execution_count": 8,
   "metadata": {
    "scrolled": true
   },
   "outputs": [
    {
     "name": "stdout",
     "output_type": "stream",
     "text": [
      "1/36. sr: 16000, size: 1024, step: 32, n_mels: 80 = (436, 80), -4.588235773802311,0.896627428071962\n",
      "Scaling output wav length (14976) to match original wav length (16000)\n",
      "Test: 16000 1024 32 80 = 1.793\n",
      "2/36. sr: 16000, size: 1024, step: 32, n_mels: 100 = (436, 100), -4.873463982643096,1.070218777660646\n",
      "Scaling output wav length (14976) to match original wav length (16000)\n",
      "Test: 16000 1024 32 100 = 1.755\n",
      "3/36. sr: 16000, size: 1024, step: 32, n_mels: 120 = (436, 120), -4.580125023419865,1.2302930736948794\n",
      "Scaling output wav length (14976) to match original wav length (16000)\n",
      "Test: 16000 1024 32 120 = 1.778\n",
      "4/36. sr: 16000, size: 1024, step: 64, n_mels: 80 = (218, 80), -4.429313442291006,0.896627428071962\n",
      "Scaling output wav length (14976) to match original wav length (16000)\n",
      "Test: 16000 1024 64 80 = 1.398\n",
      "5/36. sr: 16000, size: 1024, step: 64, n_mels: 100 = (218, 100), -4.373750161702082,1.070218777660646\n",
      "Scaling output wav length (14976) to match original wav length (16000)\n",
      "Test: 16000 1024 64 100 = 1.413\n",
      "6/36. sr: 16000, size: 1024, step: 64, n_mels: 120 = (218, 120), -4.388584615616126,1.227615680576134\n",
      "Scaling output wav length (14976) to match original wav length (16000)\n",
      "Test: 16000 1024 64 120 = 1.399\n",
      "7/36. sr: 16000, size: 2048, step: 32, n_mels: 80 = (372, 80), -4.843129729935712,0.5124742264284236\n",
      "Scaling output wav length (13952) to match original wav length (16000)\n",
      "Test: 16000 2048 32 80 = 1.344\n",
      "8/36. sr: 16000, size: 2048, step: 32, n_mels: 100 = (372, 100), -4.762208971876491,0.6739982892581571\n",
      "Scaling output wav length (13952) to match original wav length (16000)\n",
      "Test: 16000 2048 32 100 = 1.348\n",
      "9/36. sr: 16000, size: 2048, step: 32, n_mels: 120 = (372, 120), -4.718876651651381,0.8002326553802867\n",
      "Scaling output wav length (13952) to match original wav length (16000)\n",
      "Test: 16000 2048 32 120 = 1.468\n",
      "10/36. sr: 16000, size: 2048, step: 64, n_mels: 80 = (186, 80), -4.843129729935712,0.5124742264284236\n",
      "Scaling output wav length (13952) to match original wav length (16000)\n",
      "Test: 16000 2048 64 80 = 1.066\n",
      "11/36. sr: 16000, size: 2048, step: 64, n_mels: 100 = (186, 100), -4.762208971876491,0.6587175606182029\n",
      "Scaling output wav length (13952) to match original wav length (16000)\n",
      "Test: 16000 2048 64 100 = 1.154\n",
      "12/36. sr: 16000, size: 2048, step: 64, n_mels: 120 = (186, 120), -4.718876651651381,0.8002326553802867\n",
      "Scaling output wav length (13952) to match original wav length (16000)\n",
      "Test: 16000 2048 64 120 = 1.238\n",
      "13/36. sr: 32000, size: 1024, step: 32, n_mels: 80 = (936, 80), -5.602407888407318,1.5878144122230629\n",
      "Scaling output wav length (30976) to match original wav length (32000)\n",
      "Test: 32000 1024 32 80 = 1.905\n",
      "14/36. sr: 32000, size: 1024, step: 32, n_mels: 100 = (936, 100), -5.582585025094547,1.8412454026866194\n",
      "Scaling output wav length (30976) to match original wav length (32000)\n",
      "Test: 32000 1024 32 100 = 1.883\n",
      "15/36. sr: 32000, size: 1024, step: 32, n_mels: 120 = (936, 120), -4.995369763526265,1.8587702986436485\n",
      "Scaling output wav length (30976) to match original wav length (32000)\n",
      "Test: 32000 1024 32 120 = 1.846\n",
      "16/36. sr: 32000, size: 1024, step: 64, n_mels: 80 = (468, 80), -5.023832955955618,1.5878144122230629\n",
      "Scaling output wav length (30976) to match original wav length (32000)\n",
      "Test: 32000 1024 64 80 = 1.826\n",
      "17/36. sr: 32000, size: 1024, step: 64, n_mels: 100 = (468, 100), -5.582585025094547,1.8409599484711467\n",
      "Scaling output wav length (30976) to match original wav length (32000)\n",
      "Test: 32000 1024 64 100 = 1.812\n",
      "18/36. sr: 32000, size: 1024, step: 64, n_mels: 120 = (468, 120), -4.6404520378825564,1.8586504158944979\n",
      "Scaling output wav length (30976) to match original wav length (32000)\n",
      "Test: 32000 1024 64 120 = 1.765\n",
      "19/36. sr: 32000, size: 2048, step: 32, n_mels: 80 = (872, 80), -4.381901174253014,1.1980179470339203\n",
      "Scaling output wav length (29952) to match original wav length (32000)\n",
      "Test: 32000 2048 32 80 = 1.867\n",
      "20/36. sr: 32000, size: 2048, step: 32, n_mels: 100 = (872, 100), -5.065876988005734,1.3715818953879435\n",
      "Scaling output wav length (29952) to match original wav length (32000)\n",
      "Test: 32000 2048 32 100 = 1.899\n",
      "21/36. sr: 32000, size: 2048, step: 32, n_mels: 120 = (872, 120), -4.139092336537297,1.5317034559327105\n",
      "Scaling output wav length (29952) to match original wav length (32000)\n",
      "Test: 32000 2048 32 120 = 1.686\n",
      "22/36. sr: 32000, size: 2048, step: 64, n_mels: 80 = (436, 80), -4.214635451979704,1.1980179470339203\n",
      "Scaling output wav length (29952) to match original wav length (32000)\n",
      "Test: 32000 2048 64 80 = 1.723\n",
      "23/36. sr: 32000, size: 2048, step: 64, n_mels: 100 = (436, 100), -4.152614334040938,1.3715818953879435\n",
      "Scaling output wav length (29952) to match original wav length (32000)\n",
      "Test: 32000 2048 64 100 = 1.73\n",
      "24/36. sr: 32000, size: 2048, step: 64, n_mels: 120 = (436, 120), -4.139092336537297,1.5317034559327105\n",
      "Scaling output wav length (29952) to match original wav length (32000)\n",
      "Test: 32000 2048 64 120 = 1.875\n",
      "25/36. sr: 48000, size: 1024, step: 32, n_mels: 80 = (1436, 80), -5.104565227885896,1.7541213986678523\n",
      "Scaling output wav length (46976) to match original wav length (48000)\n",
      "Test: 48000 1024 32 80 = 1.966\n",
      "26/36. sr: 48000, size: 1024, step: 32, n_mels: 100 = (1436, 100), -4.878732057910331,1.8381754195521907\n",
      "Scaling output wav length (46976) to match original wav length (48000)\n",
      "Test: 48000 1024 32 100 = 1.816\n",
      "27/36. sr: 48000, size: 1024, step: 32, n_mels: 120 = (1436, 120), -6.224785115112241,1.8381754195521907\n",
      "Scaling output wav length (46976) to match original wav length (48000)\n",
      "Test: 48000 1024 32 120 = 1.969\n",
      "28/36. sr: 48000, size: 1024, step: 64, n_mels: 80 = (718, 80), -5.104565227885896,1.7541213986678523\n",
      "Scaling output wav length (46976) to match original wav length (48000)\n",
      "Test: 48000 1024 64 80 = 2.186\n",
      "29/36. sr: 48000, size: 1024, step: 64, n_mels: 100 = (718, 100), -4.8784524460075405,1.8381754195521907\n",
      "Scaling output wav length (46976) to match original wav length (48000)\n",
      "Test: 48000 1024 64 100 = 2.149\n",
      "30/36. sr: 48000, size: 1024, step: 64, n_mels: 120 = (718, 120), -6.224785115112241,1.8381754195521907\n",
      "Scaling output wav length (46976) to match original wav length (48000)\n",
      "Test: 48000 1024 64 120 = 2.168\n",
      "31/36. sr: 48000, size: 2048, step: 32, n_mels: 80 = (1372, 80), -5.205588386288394,1.6463027164573287\n",
      "Scaling output wav length (45952) to match original wav length (48000)\n",
      "Test: 48000 2048 32 80 = 1.683\n",
      "32/36. sr: 48000, size: 2048, step: 32, n_mels: 100 = (1372, 100), -4.660704575440736,1.7758420272035078\n",
      "Scaling output wav length (45952) to match original wav length (48000)\n",
      "Test: 48000 2048 32 100 = 1.687\n",
      "33/36. sr: 48000, size: 2048, step: 32, n_mels: 120 = (1372, 120), -4.4641542706722666,1.9780887515581858\n",
      "Scaling output wav length (45952) to match original wav length (48000)\n",
      "Test: 48000 2048 32 120 = 1.695\n",
      "34/36. sr: 48000, size: 2048, step: 64, n_mels: 80 = (686, 80), -5.205588386288394,1.6463027164573287\n",
      "Scaling output wav length (45952) to match original wav length (48000)\n",
      "Test: 48000 2048 64 80 = 2.152\n",
      "35/36. sr: 48000, size: 2048, step: 64, n_mels: 100 = (686, 100), -4.660704575440736,1.773916462390493\n",
      "Scaling output wav length (45952) to match original wav length (48000)\n",
      "Test: 48000 2048 64 100 = 2.117\n",
      "36/36. sr: 48000, size: 2048, step: 64, n_mels: 120 = (686, 120), -4.4641542706722666,1.977708602067558\n",
      "Scaling output wav length (45952) to match original wav length (48000)\n",
      "Test: 48000 2048 64 120 = 2.061\n"
     ]
    }
   ],
   "source": [
    "log_pow_output_dir = os.path.join(base_output_dir, \"log_power\")\n",
    "os.makedirs(log_pow_output_dir, exist_ok=True)\n",
    "\n",
    "def wav_to_log_pow_mel(orig_wav, sr, fft_size, n_mels, step_size):\n",
    "    M = avp.time_to_mel(orig_wav, sr, fft_size, n_mels, step_size)\n",
    "    mel_abs_log = np.abs(M)\n",
    "    #mel_abs_log /= np.max(mel_abs_log)\n",
    "    mel_abs_log = np.where(mel_abs_log == 0, np.finfo(float).eps, mel_abs_log)  # Numerical Stability\n",
    "    #print(\"mel_abs_log minmax:\", mel_abs_log.min(), mel_abs_log.max())\n",
    "    mel_abs_log = np.log10(mel_abs_log) #power\n",
    "    #print(\"mel_abs_log minmax:\", mel_abs_log.min(), mel_abs_log.max())\n",
    "    return mel_abs_log\n",
    "\n",
    "def log_pow_mel_to_wav(log_pow_mel, sr, fft_size, n_mels, step_size):\n",
    "    \n",
    "    #Reverse log10\n",
    "    pow_mel = np.power(10, log_pow_mel)\n",
    "    \n",
    "    reg = np.max(pow_mel) / 1E8\n",
    "    \n",
    "    #THIS PRODUCES GARBAGE, DO NOT USE FOR REAL.\n",
    "    #Create complex numbers, fill in imag values\n",
    "    #expand the complex data to 2X data with true real and image number\n",
    "    expanded = np.zeros((pow_mel.shape[0],pow_mel.shape[1]*2))\n",
    "    expanded[:,::2] = pow_mel\n",
    "    expanded[:,1::2] = 0.0\n",
    "    complex_data = avp.real_imag_collapse(expanded)\n",
    "        \n",
    "    #Invert mel to wav\n",
    "    T = avp.mel_to_time(complex_data, sr, fft_size, n_mels, step_size)      \n",
    "    return T\n",
    "    \n",
    "log_pow_results, log_pow_mel_params = test_wav_to_mel_to_wav(test_file, output_file_base, log_pow_output_dir, \\\n",
    "                                         wav_to_log_pow_mel, log_pow_mel_to_wav, \\\n",
    "                                         sr_range, fft_range, step_range, mel_bin_range, pesq_path)    "
   ]
  },
  {
   "cell_type": "code",
   "execution_count": 9,
   "metadata": {},
   "outputs": [
    {
     "name": "stdout",
     "output_type": "stream",
     "text": [
      "(2, 0, 1, 0) 2.186\n"
     ]
    },
    {
     "data": {
      "text/plain": [
       "((48000, 1024, 64, 80), 2.186)"
      ]
     },
     "execution_count": 9,
     "metadata": {},
     "output_type": "execute_result"
    }
   ],
   "source": [
    "get_best_parameters(log_pow_results, sr_range, fft_range, step_range, mel_bin_range)"
   ]
  },
  {
   "cell_type": "markdown",
   "metadata": {},
   "source": [
    "## Test 3a: Use non-iterated Griffin-Lim to estimate missing phase information.\n",
    "This is the proper implementation of the naive version above."
   ]
  },
  {
   "cell_type": "code",
   "execution_count": 22,
   "metadata": {
    "scrolled": true
   },
   "outputs": [
    {
     "name": "stdout",
     "output_type": "stream",
     "text": [
      "1/36. sr: 16000, size: 1024, step: 32, n_mels: 80 = (80, 478), -4.0,-0.2564985752105713\n",
      "Scaling output wav length (15808) to match original wav length (16000)\n",
      "Test: 16000 1024 32 80 = 2.071\n",
      "2/36. sr: 16000, size: 1024, step: 32, n_mels: 100 = (100, 478), -4.0,-0.1744890660047531\n",
      "Scaling output wav length (15808) to match original wav length (16000)\n",
      "Test: 16000 1024 32 100 = 1.838\n",
      "3/36. sr: 16000, size: 1024, step: 32, n_mels: 120 = (120, 478), -4.0,-0.06006140261888504\n",
      "Scaling output wav length (15808) to match original wav length (16000)\n",
      "Test: 16000 1024 32 120 = 2.096\n",
      "4/36. sr: 16000, size: 1024, step: 64, n_mels: 80 = (80, 238), -4.0,-0.25689488649368286\n",
      "Scaling output wav length (15744) to match original wav length (16000)\n",
      "Test: 16000 1024 64 80 = 2.068\n",
      "5/36. sr: 16000, size: 1024, step: 64, n_mels: 100 = (100, 238), -4.0,-0.17371097207069397\n",
      "Scaling output wav length (15744) to match original wav length (16000)\n",
      "Test: 16000 1024 64 100 = 1.867\n",
      "6/36. sr: 16000, size: 1024, step: 64, n_mels: 120 = (120, 238), -4.0,-0.060525309294462204\n",
      "Scaling output wav length (15744) to match original wav length (16000)\n",
      "Test: 16000 1024 64 120 = 2.137\n",
      "7/36. sr: 16000, size: 2048, step: 32, n_mels: 80 = (80, 446), -3.999527931213379,-0.30315613746643066\n",
      "Scaling output wav length (15296) to match original wav length (16000)\n",
      "Test: 16000 2048 32 80 = 0.607\n",
      "8/36. sr: 16000, size: 2048, step: 32, n_mels: 100 = (100, 446), -4.0,-0.23873387277126312\n",
      "Scaling output wav length (15296) to match original wav length (16000)\n",
      "Test: 16000 2048 32 100 = 1.648\n",
      "9/36. sr: 16000, size: 2048, step: 32, n_mels: 120 = (120, 446), -4.0,-0.12491430342197418\n",
      "Scaling output wav length (15296) to match original wav length (16000)\n",
      "Test: 16000 2048 32 120 = 0.221\n",
      "10/36. sr: 16000, size: 2048, step: 64, n_mels: 80 = (80, 222), -3.999516010284424,-0.3028081953525543\n",
      "Scaling output wav length (15232) to match original wav length (16000)\n",
      "Test: 16000 2048 64 80 = 1.334\n",
      "11/36. sr: 16000, size: 2048, step: 64, n_mels: 100 = (100, 222), -3.9996635913848877,-0.23838593065738678\n",
      "Scaling output wav length (15232) to match original wav length (16000)\n",
      "Test: 16000 2048 64 100 = 1.035\n",
      "12/36. sr: 16000, size: 2048, step: 64, n_mels: 120 = (120, 222), -3.9997646808624268,-0.12456636875867844\n",
      "Scaling output wav length (15232) to match original wav length (16000)\n",
      "Test: 16000 2048 64 120 = 0.836\n",
      "13/36. sr: 32000, size: 1024, step: 32, n_mels: 80 = (80, 990), -4.0,-3.712077845628714e-13\n",
      "Scaling output wav length (32192) to match original wav length (32000)\n",
      "Test: 32000 1024 32 80 = 1.703\n",
      "14/36. sr: 32000, size: 1024, step: 32, n_mels: 100 = (100, 990), -4.0,-3.711624378070072e-13\n",
      "Scaling output wav length (32192) to match original wav length (32000)\n",
      "Test: 32000 1024 32 100 = 1.784\n",
      "15/36. sr: 32000, size: 1024, step: 32, n_mels: 120 = (120, 990), -4.0,-3.7122537574312e-13\n",
      "Scaling output wav length (32192) to match original wav length (32000)\n",
      "Test: 32000 1024 32 120 = 1.522\n",
      "16/36. sr: 32000, size: 1024, step: 64, n_mels: 80 = (80, 494), -4.0,-3.7038677246775675e-13\n",
      "Scaling output wav length (32128) to match original wav length (32000)\n",
      "Test: 32000 1024 64 80 = 1.748\n",
      "17/36. sr: 32000, size: 1024, step: 64, n_mels: 100 = (100, 494), -4.0,-3.703435941162375e-13\n",
      "Scaling output wav length (32128) to match original wav length (32000)\n",
      "Test: 32000 1024 64 100 = 1.616\n",
      "18/36. sr: 32000, size: 1024, step: 64, n_mels: 120 = (120, 494), -4.0,-3.7044621385186327e-13\n",
      "Scaling output wav length (32128) to match original wav length (32000)\n",
      "Test: 32000 1024 64 120 = 1.859\n",
      "19/36. sr: 32000, size: 2048, step: 32, n_mels: 80 = (80, 958), -4.0,-0.25733524560928345\n",
      "Scaling output wav length (31680) to match original wav length (32000)\n",
      "Test: 32000 2048 32 80 = 2.116\n",
      "20/36. sr: 32000, size: 2048, step: 32, n_mels: 100 = (100, 958), -4.0,-0.17490068078041077\n",
      "Scaling output wav length (31680) to match original wav length (32000)\n",
      "Test: 32000 2048 32 100 = 1.862\n",
      "21/36. sr: 32000, size: 2048, step: 32, n_mels: 120 = (120, 958), -4.0,-0.060931842774152756\n",
      "Scaling output wav length (31680) to match original wav length (32000)\n",
      "Test: 32000 2048 32 120 = 2.179\n",
      "22/36. sr: 32000, size: 2048, step: 64, n_mels: 80 = (80, 478), -4.0,-0.2566158175468445\n",
      "Scaling output wav length (31616) to match original wav length (32000)\n",
      "Test: 32000 2048 64 80 = 2.044\n",
      "23/36. sr: 32000, size: 2048, step: 64, n_mels: 100 = (100, 478), -4.0,-0.1745745986700058\n",
      "Scaling output wav length (31616) to match original wav length (32000)\n",
      "Test: 32000 2048 64 100 = 1.406\n",
      "24/36. sr: 32000, size: 2048, step: 64, n_mels: 120 = (120, 478), -4.0,-0.06012127548456192\n",
      "Scaling output wav length (31616) to match original wav length (32000)\n",
      "Test: 32000 2048 64 120 = 1.924\n",
      "25/36. sr: 48000, size: 1024, step: 32, n_mels: 80 = (80, 1470), -4.0,-3.687595747422362e-13\n",
      "Scaling output wav length (47552) to match original wav length (48000)\n",
      "Test: 48000 1024 32 80 = 1.638\n",
      "26/36. sr: 48000, size: 1024, step: 32, n_mels: 100 = (100, 1470), -4.0,-3.6881638693607444e-13\n",
      "Scaling output wav length (47552) to match original wav length (48000)\n",
      "Test: 48000 1024 32 100 = 1.719\n",
      "27/36. sr: 48000, size: 1024, step: 32, n_mels: 120 = (120, 1470), -4.0,-3.691615426976852e-13\n",
      "Scaling output wav length (47552) to match original wav length (48000)\n",
      "Test: 48000 1024 32 120 = 1.634\n",
      "28/36. sr: 48000, size: 1024, step: 64, n_mels: 80 = (80, 734), -4.0,-3.6874694378692674e-13\n",
      "Scaling output wav length (47488) to match original wav length (48000)\n",
      "Test: 48000 1024 64 80 = 1.867\n",
      "29/36. sr: 48000, size: 1024, step: 64, n_mels: 100 = (100, 734), -4.0,-3.691586966669824e-13\n",
      "Scaling output wav length (47488) to match original wav length (48000)\n",
      "Test: 48000 1024 64 100 = 1.767\n",
      "30/36. sr: 48000, size: 1024, step: 64, n_mels: 120 = (120, 734), -4.0,-3.6921073837126173e-13\n",
      "Scaling output wav length (47488) to match original wav length (48000)\n",
      "Test: 48000 1024 64 120 = 1.868\n",
      "31/36. sr: 48000, size: 2048, step: 32, n_mels: 80 = (80, 1470), -4.0,-0.030675241723656654\n",
      "Scaling output wav length (48064) to match original wav length (48000)\n",
      "Test: 48000 2048 32 80 = 1.524\n",
      "32/36. sr: 48000, size: 2048, step: 32, n_mels: 100 = (100, 1470), -4.0,-7.708544089504721e-13\n",
      "Scaling output wav length (48064) to match original wav length (48000)\n",
      "Test: 48000 2048 32 100 = 1.944\n",
      "33/36. sr: 48000, size: 2048, step: 32, n_mels: 120 = (120, 1470), -4.0,-0.052424732595682144\n",
      "Scaling output wav length (48064) to match original wav length (48000)\n",
      "Test: 48000 2048 32 120 = 2.07\n",
      "34/36. sr: 48000, size: 2048, step: 64, n_mels: 80 = (80, 734), -4.0,-0.030675241723656654\n",
      "Test: 48000 2048 64 80 = 2.023\n",
      "35/36. sr: 48000, size: 2048, step: 64, n_mels: 100 = (100, 734), -4.0,-7.708015540945634e-13\n",
      "Test: 48000 2048 64 100 = 1.981\n",
      "36/36. sr: 48000, size: 2048, step: 64, n_mels: 120 = (120, 734), -4.0,-0.053023774176836014\n",
      "Test: 48000 2048 64 120 = 1.734\n"
     ]
    }
   ],
   "source": [
    "gl_output_dir = os.path.join(base_output_dir, \"griffin_lim\")\n",
    "os.makedirs(gl_output_dir, exist_ok=True)\n",
    "\n",
    "def wmc_wav_to_log_pow_mel(orig_wav, sr, fft_size, n_mels, step_size):\n",
    "    \n",
    "    conv = wmc.WavMelConverter(fft_size=fft_size, fft_step_size=step_size, spec_thresh=4, \n",
    "                    mel_n_freq_comps=n_mels, mel_start_freq=300, mel_end_freq=8000,\n",
    "                    shorten_factor=1, griffin_lim_iterations=0,\n",
    "                    target_sample_rate=16000)\n",
    "    \n",
    "    conv.load_wav_data(orig_wav, sr)\n",
    "    return conv.mel_spectrogram\n",
    "    \n",
    "def wmc_log_pow_mel_to_wav(log_pow_mel, sr, fft_size, n_mels, step_size):\n",
    "    \n",
    "    conv = wmc.WavMelConverter(fft_size=fft_size, fft_step_size=step_size, spec_thresh=4, \n",
    "                    mel_n_freq_comps=n_mels, mel_start_freq=300, mel_end_freq=8000,\n",
    "                    shorten_factor=1, griffin_lim_iterations=0,\n",
    "                    target_sample_rate=16000)\n",
    "    \n",
    "    conv.load_mel_data(log_pow_mel, sr)\n",
    "    T = conv.wav \n",
    "    return T\n",
    "\n",
    "gl_results, gl_mel_params = test_wav_to_mel_to_wav(test_file, output_file_base, gl_output_dir, \\\n",
    "                                    wmc_wav_to_log_pow_mel, wmc_log_pow_mel_to_wav, \\\n",
    "                                    sr_range, fft_range, step_range, mel_bin_range, pesq_path) "
   ]
  },
  {
   "cell_type": "code",
   "execution_count": 11,
   "metadata": {},
   "outputs": [
    {
     "name": "stdout",
     "output_type": "stream",
     "text": [
      "(1, 1, 0, 2) 2.179\n"
     ]
    },
    {
     "data": {
      "text/plain": [
       "((32000, 2048, 32, 120), 2.179)"
      ]
     },
     "execution_count": 11,
     "metadata": {},
     "output_type": "execute_result"
    }
   ],
   "source": [
    "get_best_parameters(gl_results, sr_range, fft_range, step_range, mel_bin_range)"
   ]
  },
  {
   "cell_type": "code",
   "execution_count": 12,
   "metadata": {},
   "outputs": [
    {
     "name": "stdout",
     "output_type": "stream",
     "text": [
      "((32000, 2048, 32, 120), 2.179, 114960.0)\n",
      "((16000, 1024, 64, 120), 2.137, 28560.0)\n",
      "((32000, 2048, 32, 80), 2.116, 76640.0)\n",
      "((16000, 1024, 32, 120), 2.096, 57360.0)\n",
      "((16000, 1024, 32, 80), 2.071, 38240.0)\n",
      "((48000, 2048, 32, 120), 2.07, 176400.0)\n",
      "((16000, 1024, 64, 80), 2.068, 19040.0)\n",
      "((32000, 2048, 64, 80), 2.044, 38240.0)\n",
      "((48000, 2048, 64, 80), 2.023, 58720.0)\n",
      "((48000, 2048, 64, 100), 1.981, 73400.0)\n"
     ]
    }
   ],
   "source": [
    "top_gl = top_n_results(gl_results, gl_mel_params, sr_range, fft_range, step_range, mel_bin_range, top_n=10)\n",
    "for r in top_gl: print(r)"
   ]
  },
  {
   "cell_type": "markdown",
   "metadata": {},
   "source": [
    "## Test 3b: Use iterated Griffin-Lim, with 10 iterations, to estimate phase information.\n",
    "\n",
    "Iterated Griffin-Lim uses multiple passes to refine the phase estimate. "
   ]
  },
  {
   "cell_type": "code",
   "execution_count": 13,
   "metadata": {
    "scrolled": true
   },
   "outputs": [
    {
     "name": "stdout",
     "output_type": "stream",
     "text": [
      "1/36. sr: 16000, size: 1024, step: 32, n_mels: 80 = (80, 478), -4.0,-0.2564985752105713\n",
      "Scaling output wav length (15808) to match original wav length (16000)\n",
      "Test: 16000 1024 32 80 = 2.618\n",
      "2/36. sr: 16000, size: 1024, step: 32, n_mels: 100 = (100, 478), -4.0,-0.1744890660047531\n",
      "Scaling output wav length (15808) to match original wav length (16000)\n",
      "Test: 16000 1024 32 100 = 2.753\n",
      "3/36. sr: 16000, size: 1024, step: 32, n_mels: 120 = (120, 478), -4.0,-0.06006140261888504\n",
      "Scaling output wav length (15808) to match original wav length (16000)\n",
      "Test: 16000 1024 32 120 = 2.779\n",
      "4/36. sr: 16000, size: 1024, step: 64, n_mels: 80 = (80, 238), -4.0,-0.25689488649368286\n",
      "Scaling output wav length (15744) to match original wav length (16000)\n",
      "Test: 16000 1024 64 80 = 2.912\n",
      "5/36. sr: 16000, size: 1024, step: 64, n_mels: 100 = (100, 238), -4.0,-0.17371097207069397\n",
      "Scaling output wav length (15744) to match original wav length (16000)\n",
      "Test: 16000 1024 64 100 = 2.903\n",
      "6/36. sr: 16000, size: 1024, step: 64, n_mels: 120 = (120, 238), -4.0,-0.060525309294462204\n",
      "Scaling output wav length (15744) to match original wav length (16000)\n",
      "Test: 16000 1024 64 120 = 2.907\n",
      "7/36. sr: 16000, size: 2048, step: 32, n_mels: 80 = (80, 446), -3.999527931213379,-0.30315613746643066\n",
      "Scaling output wav length (15296) to match original wav length (16000)\n",
      "Test: 16000 2048 32 80 = 2.146\n",
      "8/36. sr: 16000, size: 2048, step: 32, n_mels: 100 = (100, 446), -4.0,-0.23873387277126312\n",
      "Scaling output wav length (15296) to match original wav length (16000)\n",
      "Test: 16000 2048 32 100 = 1.914\n",
      "9/36. sr: 16000, size: 2048, step: 32, n_mels: 120 = (120, 446), -4.0,-0.12491430342197418\n",
      "Scaling output wav length (15296) to match original wav length (16000)\n",
      "Test: 16000 2048 32 120 = 2.073\n",
      "10/36. sr: 16000, size: 2048, step: 64, n_mels: 80 = (80, 222), -3.999516010284424,-0.3028081953525543\n",
      "Scaling output wav length (15232) to match original wav length (16000)\n",
      "Test: 16000 2048 64 80 = 2.005\n",
      "11/36. sr: 16000, size: 2048, step: 64, n_mels: 100 = (100, 222), -3.9996635913848877,-0.23838593065738678\n",
      "Scaling output wav length (15232) to match original wav length (16000)\n",
      "Test: 16000 2048 64 100 = 1.958\n",
      "12/36. sr: 16000, size: 2048, step: 64, n_mels: 120 = (120, 222), -3.9997646808624268,-0.12456636875867844\n",
      "Scaling output wav length (15232) to match original wav length (16000)\n",
      "Test: 16000 2048 64 120 = 2.025\n",
      "13/36. sr: 32000, size: 1024, step: 32, n_mels: 80 = (80, 990), -4.0,-3.712077845628714e-13\n",
      "Scaling output wav length (32192) to match original wav length (32000)\n",
      "Test: 32000 1024 32 80 = 2.537\n",
      "14/36. sr: 32000, size: 1024, step: 32, n_mels: 100 = (100, 990), -4.0,-3.711624378070072e-13\n",
      "Scaling output wav length (32192) to match original wav length (32000)\n",
      "Test: 32000 1024 32 100 = 2.468\n",
      "15/36. sr: 32000, size: 1024, step: 32, n_mels: 120 = (120, 990), -4.0,-3.7122537574312e-13\n",
      "Scaling output wav length (32192) to match original wav length (32000)\n",
      "Test: 32000 1024 32 120 = 2.586\n",
      "16/36. sr: 32000, size: 1024, step: 64, n_mels: 80 = (80, 494), -4.0,-3.7038677246775675e-13\n",
      "Scaling output wav length (32128) to match original wav length (32000)\n",
      "Test: 32000 1024 64 80 = 2.601\n",
      "17/36. sr: 32000, size: 1024, step: 64, n_mels: 100 = (100, 494), -4.0,-3.703435941162375e-13\n",
      "Scaling output wav length (32128) to match original wav length (32000)\n",
      "Test: 32000 1024 64 100 = 2.775\n",
      "18/36. sr: 32000, size: 1024, step: 64, n_mels: 120 = (120, 494), -4.0,-3.7044621385186327e-13\n",
      "Scaling output wav length (32128) to match original wav length (32000)\n",
      "Test: 32000 1024 64 120 = 2.746\n",
      "19/36. sr: 32000, size: 2048, step: 32, n_mels: 80 = (80, 958), -4.0,-0.25733524560928345\n",
      "Scaling output wav length (31680) to match original wav length (32000)\n",
      "Test: 32000 2048 32 80 = 2.859\n",
      "20/36. sr: 32000, size: 2048, step: 32, n_mels: 100 = (100, 958), -4.0,-0.17490068078041077\n",
      "Scaling output wav length (31680) to match original wav length (32000)\n",
      "Test: 32000 2048 32 100 = 2.797\n",
      "21/36. sr: 32000, size: 2048, step: 32, n_mels: 120 = (120, 958), -4.0,-0.060931842774152756\n",
      "Scaling output wav length (31680) to match original wav length (32000)\n",
      "Test: 32000 2048 32 120 = 2.841\n",
      "22/36. sr: 32000, size: 2048, step: 64, n_mels: 80 = (80, 478), -4.0,-0.2566158175468445\n",
      "Scaling output wav length (31616) to match original wav length (32000)\n",
      "Test: 32000 2048 64 80 = 2.935\n",
      "23/36. sr: 32000, size: 2048, step: 64, n_mels: 100 = (100, 478), -4.0,-0.1745745986700058\n",
      "Scaling output wav length (31616) to match original wav length (32000)\n",
      "Test: 32000 2048 64 100 = 2.81\n",
      "24/36. sr: 32000, size: 2048, step: 64, n_mels: 120 = (120, 478), -4.0,-0.06012127548456192\n",
      "Scaling output wav length (31616) to match original wav length (32000)\n",
      "Test: 32000 2048 64 120 = 2.945\n",
      "25/36. sr: 48000, size: 1024, step: 32, n_mels: 80 = (80, 1470), -4.0,-3.687595747422362e-13\n",
      "Scaling output wav length (47552) to match original wav length (48000)\n",
      "Test: 48000 1024 32 80 = 2.461\n",
      "26/36. sr: 48000, size: 1024, step: 32, n_mels: 100 = (100, 1470), -4.0,-3.6881638693607444e-13\n",
      "Scaling output wav length (47552) to match original wav length (48000)\n",
      "Test: 48000 1024 32 100 = 2.347\n",
      "27/36. sr: 48000, size: 1024, step: 32, n_mels: 120 = (120, 1470), -4.0,-3.691615426976852e-13\n",
      "Scaling output wav length (47552) to match original wav length (48000)\n",
      "Test: 48000 1024 32 120 = 2.354\n",
      "28/36. sr: 48000, size: 1024, step: 64, n_mels: 80 = (80, 734), -4.0,-3.6874694378692674e-13\n",
      "Scaling output wav length (47488) to match original wav length (48000)\n",
      "Test: 48000 1024 64 80 = 2.51\n",
      "29/36. sr: 48000, size: 1024, step: 64, n_mels: 100 = (100, 734), -4.0,-3.691586966669824e-13\n",
      "Scaling output wav length (47488) to match original wav length (48000)\n",
      "Test: 48000 1024 64 100 = 2.52\n",
      "30/36. sr: 48000, size: 1024, step: 64, n_mels: 120 = (120, 734), -4.0,-3.6921073837126173e-13\n",
      "Scaling output wav length (47488) to match original wav length (48000)\n",
      "Test: 48000 1024 64 120 = 2.364\n",
      "31/36. sr: 48000, size: 2048, step: 32, n_mels: 80 = (80, 1470), -4.0,-0.030675241723656654\n",
      "Scaling output wav length (48064) to match original wav length (48000)\n",
      "Test: 48000 2048 32 80 = 2.868\n",
      "32/36. sr: 48000, size: 2048, step: 32, n_mels: 100 = (100, 1470), -4.0,-7.708544089504721e-13\n",
      "Scaling output wav length (48064) to match original wav length (48000)\n",
      "Test: 48000 2048 32 100 = 2.856\n",
      "33/36. sr: 48000, size: 2048, step: 32, n_mels: 120 = (120, 1470), -4.0,-0.052424732595682144\n",
      "Scaling output wav length (48064) to match original wav length (48000)\n",
      "Test: 48000 2048 32 120 = 2.826\n",
      "34/36. sr: 48000, size: 2048, step: 64, n_mels: 80 = (80, 734), -4.0,-0.030675241723656654\n",
      "Test: 48000 2048 64 80 = 2.843\n",
      "35/36. sr: 48000, size: 2048, step: 64, n_mels: 100 = (100, 734), -4.0,-7.708015540945634e-13\n",
      "Test: 48000 2048 64 100 = 2.978\n",
      "36/36. sr: 48000, size: 2048, step: 64, n_mels: 120 = (120, 734), -4.0,-0.053023774176836014\n",
      "Test: 48000 2048 64 120 = 2.804\n"
     ]
    }
   ],
   "source": [
    "gl10_output_dir = os.path.join(base_output_dir, \"griffin_lim_10\")\n",
    "os.makedirs(gl10_output_dir, exist_ok=True)\n",
    "\n",
    "n_iterations = 10\n",
    "\n",
    "def wmc_i_wav_to_log_pow_mel(orig_wav, sr, fft_size, n_mels, step_size):\n",
    "    \n",
    "    conv = wmc.WavMelConverter(fft_size=fft_size, fft_step_size=step_size, spec_thresh=4, \n",
    "                    mel_n_freq_comps=n_mels, mel_start_freq=300, mel_end_freq=8000,\n",
    "                    shorten_factor=1, griffin_lim_iterations=n_iterations,\n",
    "                    target_sample_rate=16000)\n",
    "    \n",
    "    conv.load_wav_data(orig_wav, sr)\n",
    "    return conv.mel_spectrogram\n",
    "    \n",
    "def wmc_i_log_pow_mel_to_wav(log_pow_mel, sr, fft_size, n_mels, step_size):\n",
    "    \n",
    "    conv = wmc.WavMelConverter(fft_size=fft_size, fft_step_size=step_size, spec_thresh=4, \n",
    "                    mel_n_freq_comps=n_mels, mel_start_freq=300, mel_end_freq=8000,\n",
    "                    shorten_factor=1, griffin_lim_iterations=n_iterations,\n",
    "                    target_sample_rate=16000)\n",
    "    \n",
    "    conv.load_mel_data(log_pow_mel, sr)\n",
    "    T = conv.wav   \n",
    "    return T\n",
    "\n",
    "gl10_results, gl10_mel_params = test_wav_to_mel_to_wav(test_file,output_file_base, gl10_output_dir, \\\n",
    "                                      wmc_i_wav_to_log_pow_mel, wmc_i_log_pow_mel_to_wav, \\\n",
    "                                      sr_range, fft_range, step_range, mel_bin_range, pesq_path) "
   ]
  },
  {
   "cell_type": "code",
   "execution_count": 14,
   "metadata": {},
   "outputs": [
    {
     "name": "stdout",
     "output_type": "stream",
     "text": [
      "(2, 1, 1, 1) 2.978\n"
     ]
    },
    {
     "data": {
      "text/plain": [
       "((48000, 2048, 64, 100), 2.978)"
      ]
     },
     "execution_count": 14,
     "metadata": {},
     "output_type": "execute_result"
    }
   ],
   "source": [
    "get_best_parameters(gl10_results, sr_range, fft_range, step_range, mel_bin_range)"
   ]
  },
  {
   "cell_type": "code",
   "execution_count": 15,
   "metadata": {},
   "outputs": [
    {
     "name": "stdout",
     "output_type": "stream",
     "text": [
      "((48000, 2048, 64, 100), 2.978, 73400.0)\n",
      "((32000, 2048, 64, 120), 2.945, 57360.0)\n",
      "((32000, 2048, 64, 80), 2.935, 38240.0)\n",
      "((16000, 1024, 64, 80), 2.912, 19040.0)\n",
      "((16000, 1024, 64, 120), 2.907, 28560.0)\n",
      "((16000, 1024, 64, 100), 2.903, 23800.0)\n",
      "((48000, 2048, 32, 80), 2.868, 117600.0)\n",
      "((32000, 2048, 32, 80), 2.859, 76640.0)\n",
      "((48000, 2048, 32, 100), 2.856, 147000.0)\n",
      "((48000, 2048, 64, 80), 2.843, 58720.0)\n"
     ]
    }
   ],
   "source": [
    "top_gl10 = top_n_results(gl10_results, gl10_mel_params, sr_range, fft_range, step_range, mel_bin_range, top_n=10)\n",
    "for r in top_gl10: print(r)"
   ]
  },
  {
   "cell_type": "markdown",
   "metadata": {},
   "source": [
    "## Test 3c: 20 iteration Griffin-Lim"
   ]
  },
  {
   "cell_type": "code",
   "execution_count": 16,
   "metadata": {
    "scrolled": true
   },
   "outputs": [
    {
     "name": "stdout",
     "output_type": "stream",
     "text": [
      "1/36. sr: 16000, size: 1024, step: 32, n_mels: 80 = (80, 478), -4.0,-0.2564985752105713\n",
      "Scaling output wav length (15808) to match original wav length (16000)\n",
      "Test: 16000 1024 32 80 = 2.737\n",
      "2/36. sr: 16000, size: 1024, step: 32, n_mels: 100 = (100, 478), -4.0,-0.1744890660047531\n",
      "Scaling output wav length (15808) to match original wav length (16000)\n",
      "Test: 16000 1024 32 100 = 2.758\n",
      "3/36. sr: 16000, size: 1024, step: 32, n_mels: 120 = (120, 478), -4.0,-0.06006140261888504\n",
      "Scaling output wav length (15808) to match original wav length (16000)\n",
      "Test: 16000 1024 32 120 = 2.826\n",
      "4/36. sr: 16000, size: 1024, step: 64, n_mels: 80 = (80, 238), -4.0,-0.25689488649368286\n",
      "Scaling output wav length (15744) to match original wav length (16000)\n",
      "Test: 16000 1024 64 80 = 2.441\n",
      "5/36. sr: 16000, size: 1024, step: 64, n_mels: 100 = (100, 238), -4.0,-0.17371097207069397\n",
      "Scaling output wav length (15744) to match original wav length (16000)\n",
      "Test: 16000 1024 64 100 = 2.222\n",
      "6/36. sr: 16000, size: 1024, step: 64, n_mels: 120 = (120, 238), -4.0,-0.060525309294462204\n",
      "Scaling output wav length (15744) to match original wav length (16000)\n",
      "Test: 16000 1024 64 120 = 2.768\n",
      "7/36. sr: 16000, size: 2048, step: 32, n_mels: 80 = (80, 446), -3.999527931213379,-0.30315613746643066\n",
      "Scaling output wav length (15296) to match original wav length (16000)\n",
      "Test: 16000 2048 32 80 = 2.069\n",
      "8/36. sr: 16000, size: 2048, step: 32, n_mels: 100 = (100, 446), -4.0,-0.23873387277126312\n",
      "Scaling output wav length (15296) to match original wav length (16000)\n",
      "Test: 16000 2048 32 100 = 1.99\n",
      "9/36. sr: 16000, size: 2048, step: 32, n_mels: 120 = (120, 446), -4.0,-0.12491430342197418\n",
      "Scaling output wav length (15296) to match original wav length (16000)\n",
      "Test: 16000 2048 32 120 = 2.04\n",
      "10/36. sr: 16000, size: 2048, step: 64, n_mels: 80 = (80, 222), -3.999516010284424,-0.3028081953525543\n",
      "Scaling output wav length (15232) to match original wav length (16000)\n",
      "Test: 16000 2048 64 80 = 1.989\n",
      "11/36. sr: 16000, size: 2048, step: 64, n_mels: 100 = (100, 222), -3.9996635913848877,-0.23838593065738678\n",
      "Scaling output wav length (15232) to match original wav length (16000)\n",
      "Test: 16000 2048 64 100 = 1.962\n",
      "12/36. sr: 16000, size: 2048, step: 64, n_mels: 120 = (120, 222), -3.9997646808624268,-0.12456636875867844\n",
      "Scaling output wav length (15232) to match original wav length (16000)\n",
      "Test: 16000 2048 64 120 = 1.964\n",
      "13/36. sr: 32000, size: 1024, step: 32, n_mels: 80 = (80, 990), -4.0,-3.712077845628714e-13\n",
      "Scaling output wav length (32192) to match original wav length (32000)\n",
      "Test: 32000 1024 32 80 = 2.52\n",
      "14/36. sr: 32000, size: 1024, step: 32, n_mels: 100 = (100, 990), -4.0,-3.711624378070072e-13\n",
      "Scaling output wav length (32192) to match original wav length (32000)\n",
      "Test: 32000 1024 32 100 = 2.495\n",
      "15/36. sr: 32000, size: 1024, step: 32, n_mels: 120 = (120, 990), -4.0,-3.7122537574312e-13\n",
      "Scaling output wav length (32192) to match original wav length (32000)\n",
      "Test: 32000 1024 32 120 = 2.553\n",
      "16/36. sr: 32000, size: 1024, step: 64, n_mels: 80 = (80, 494), -4.0,-3.7038677246775675e-13\n",
      "Scaling output wav length (32128) to match original wav length (32000)\n",
      "Test: 32000 1024 64 80 = 2.613\n",
      "17/36. sr: 32000, size: 1024, step: 64, n_mels: 100 = (100, 494), -4.0,-3.703435941162375e-13\n",
      "Scaling output wav length (32128) to match original wav length (32000)\n",
      "Test: 32000 1024 64 100 = 2.675\n",
      "18/36. sr: 32000, size: 1024, step: 64, n_mels: 120 = (120, 494), -4.0,-3.7044621385186327e-13\n",
      "Scaling output wav length (32128) to match original wav length (32000)\n",
      "Test: 32000 1024 64 120 = 2.699\n",
      "19/36. sr: 32000, size: 2048, step: 32, n_mels: 80 = (80, 958), -4.0,-0.25733524560928345\n",
      "Scaling output wav length (31680) to match original wav length (32000)\n",
      "Test: 32000 2048 32 80 = 2.869\n",
      "20/36. sr: 32000, size: 2048, step: 32, n_mels: 100 = (100, 958), -4.0,-0.17490068078041077\n",
      "Scaling output wav length (31680) to match original wav length (32000)\n",
      "Test: 32000 2048 32 100 = 2.788\n",
      "21/36. sr: 32000, size: 2048, step: 32, n_mels: 120 = (120, 958), -4.0,-0.060931842774152756\n",
      "Scaling output wav length (31680) to match original wav length (32000)\n",
      "Test: 32000 2048 32 120 = 2.837\n",
      "22/36. sr: 32000, size: 2048, step: 64, n_mels: 80 = (80, 478), -4.0,-0.2566158175468445\n",
      "Scaling output wav length (31616) to match original wav length (32000)\n",
      "Test: 32000 2048 64 80 = 2.79\n",
      "23/36. sr: 32000, size: 2048, step: 64, n_mels: 100 = (100, 478), -4.0,-0.1745745986700058\n",
      "Scaling output wav length (31616) to match original wav length (32000)\n",
      "Test: 32000 2048 64 100 = 2.814\n",
      "24/36. sr: 32000, size: 2048, step: 64, n_mels: 120 = (120, 478), -4.0,-0.06012127548456192\n",
      "Scaling output wav length (31616) to match original wav length (32000)\n",
      "Test: 32000 2048 64 120 = 2.909\n",
      "25/36. sr: 48000, size: 1024, step: 32, n_mels: 80 = (80, 1470), -4.0,-3.687595747422362e-13\n",
      "Scaling output wav length (47552) to match original wav length (48000)\n",
      "Test: 48000 1024 32 80 = 2.384\n",
      "26/36. sr: 48000, size: 1024, step: 32, n_mels: 100 = (100, 1470), -4.0,-3.6881638693607444e-13\n",
      "Scaling output wav length (47552) to match original wav length (48000)\n",
      "Test: 48000 1024 32 100 = 2.408\n",
      "27/36. sr: 48000, size: 1024, step: 32, n_mels: 120 = (120, 1470), -4.0,-3.691615426976852e-13\n",
      "Scaling output wav length (47552) to match original wav length (48000)\n",
      "Test: 48000 1024 32 120 = 2.314\n",
      "28/36. sr: 48000, size: 1024, step: 64, n_mels: 80 = (80, 734), -4.0,-3.6874694378692674e-13\n",
      "Scaling output wav length (47488) to match original wav length (48000)\n",
      "Test: 48000 1024 64 80 = 2.485\n",
      "29/36. sr: 48000, size: 1024, step: 64, n_mels: 100 = (100, 734), -4.0,-3.691586966669824e-13\n",
      "Scaling output wav length (47488) to match original wav length (48000)\n",
      "Test: 48000 1024 64 100 = 2.506\n",
      "30/36. sr: 48000, size: 1024, step: 64, n_mels: 120 = (120, 734), -4.0,-3.6921073837126173e-13\n",
      "Scaling output wav length (47488) to match original wav length (48000)\n",
      "Test: 48000 1024 64 120 = 2.353\n",
      "31/36. sr: 48000, size: 2048, step: 32, n_mels: 80 = (80, 1470), -4.0,-0.030675241723656654\n",
      "Scaling output wav length (48064) to match original wav length (48000)\n",
      "Test: 48000 2048 32 80 = 2.771\n",
      "32/36. sr: 48000, size: 2048, step: 32, n_mels: 100 = (100, 1470), -4.0,-7.708544089504721e-13\n",
      "Scaling output wav length (48064) to match original wav length (48000)\n",
      "Test: 48000 2048 32 100 = 2.8\n",
      "33/36. sr: 48000, size: 2048, step: 32, n_mels: 120 = (120, 1470), -4.0,-0.052424732595682144\n",
      "Scaling output wav length (48064) to match original wav length (48000)\n",
      "Test: 48000 2048 32 120 = 2.802\n",
      "34/36. sr: 48000, size: 2048, step: 64, n_mels: 80 = (80, 734), -4.0,-0.030675241723656654\n",
      "Test: 48000 2048 64 80 = 2.913\n",
      "35/36. sr: 48000, size: 2048, step: 64, n_mels: 100 = (100, 734), -4.0,-7.708015540945634e-13\n",
      "Test: 48000 2048 64 100 = 2.932\n",
      "36/36. sr: 48000, size: 2048, step: 64, n_mels: 120 = (120, 734), -4.0,-0.053023774176836014\n",
      "Test: 48000 2048 64 120 = 2.902\n"
     ]
    }
   ],
   "source": [
    "gl20_output_dir = os.path.join(base_output_dir, \"griffin_lim_20\")\n",
    "os.makedirs(gl20_output_dir, exist_ok=True)\n",
    "\n",
    "n_iterations = 20\n",
    "\n",
    "def wmc_i20_wav_to_log_pow_mel(orig_wav, sr, fft_size, n_mels, step_size):\n",
    "    \n",
    "    conv = wmc.WavMelConverter(fft_size=fft_size, fft_step_size=step_size, spec_thresh=4, \n",
    "                    mel_n_freq_comps=n_mels, mel_start_freq=300, mel_end_freq=8000,\n",
    "                    shorten_factor=1, griffin_lim_iterations=n_iterations,\n",
    "                    target_sample_rate=16000)\n",
    "    \n",
    "    conv.load_wav_data(orig_wav, sr)\n",
    "    return conv.mel_spectrogram\n",
    "    \n",
    "def wmc_i20_log_pow_mel_to_wav(log_pow_mel, sr, fft_size, n_mels, step_size):\n",
    "    \n",
    "    conv = wmc.WavMelConverter(fft_size=fft_size, fft_step_size=step_size, spec_thresh=4, \n",
    "                    mel_n_freq_comps=n_mels, mel_start_freq=300, mel_end_freq=8000,\n",
    "                    shorten_factor=1, griffin_lim_iterations=n_iterations,\n",
    "                    target_sample_rate=16000)\n",
    "    \n",
    "    conv.load_mel_data(log_pow_mel, sr)\n",
    "    T = conv.wav\n",
    "    return T\n",
    "\n",
    "gl20_results, gl20_mel_params = test_wav_to_mel_to_wav(test_file, output_file_base, gl20_output_dir, \\\n",
    "                                      wmc_i20_wav_to_log_pow_mel, wmc_i20_log_pow_mel_to_wav, \\\n",
    "                                      sr_range, fft_range, step_range, mel_bin_range, pesq_path) "
   ]
  },
  {
   "cell_type": "code",
   "execution_count": 17,
   "metadata": {},
   "outputs": [
    {
     "name": "stdout",
     "output_type": "stream",
     "text": [
      "(2, 1, 1, 1) 2.932\n"
     ]
    },
    {
     "data": {
      "text/plain": [
       "((48000, 2048, 64, 100), 2.932)"
      ]
     },
     "execution_count": 17,
     "metadata": {},
     "output_type": "execute_result"
    }
   ],
   "source": [
    "get_best_parameters(gl20_results, sr_range, fft_range, step_range, mel_bin_range)"
   ]
  },
  {
   "cell_type": "code",
   "execution_count": 18,
   "metadata": {},
   "outputs": [
    {
     "name": "stdout",
     "output_type": "stream",
     "text": [
      "((48000, 2048, 64, 100), 2.932, 73400.0)\n",
      "((48000, 2048, 64, 80), 2.913, 58720.0)\n",
      "((32000, 2048, 64, 120), 2.909, 57360.0)\n",
      "((48000, 2048, 64, 120), 2.902, 88080.0)\n",
      "((32000, 2048, 32, 80), 2.869, 76640.0)\n",
      "((32000, 2048, 32, 120), 2.837, 114960.0)\n",
      "((16000, 1024, 32, 120), 2.826, 57360.0)\n",
      "((32000, 2048, 64, 100), 2.814, 47800.0)\n",
      "((48000, 2048, 32, 120), 2.802, 176400.0)\n",
      "((48000, 2048, 32, 100), 2.8, 147000.0)\n"
     ]
    }
   ],
   "source": [
    "top_gl20 = top_n_results(gl20_results, gl20_mel_params, sr_range, fft_range, step_range, mel_bin_range, top_n=10)\n",
    "for r in top_gl20: print(r)"
   ]
  },
  {
   "cell_type": "markdown",
   "metadata": {},
   "source": [
    "## Results analysis\n",
    "\n",
    "What parameters should we choose to do MEL encoding?"
   ]
  },
  {
   "cell_type": "code",
   "execution_count": 19,
   "metadata": {},
   "outputs": [
    {
     "name": "stdout",
     "output_type": "stream",
     "text": [
      "((32000, 2048, 32, 120), 2.179, 114960.0) ((48000, 2048, 64, 100), 2.978, 73400.0) ((48000, 2048, 64, 100), 2.932, 73400.0)\n",
      "((16000, 1024, 64, 120), 2.137, 28560.0) ((32000, 2048, 64, 120), 2.945, 57360.0) ((48000, 2048, 64, 80), 2.913, 58720.0)\n",
      "((32000, 2048, 32, 80), 2.116, 76640.0) ((32000, 2048, 64, 80), 2.935, 38240.0) ((32000, 2048, 64, 120), 2.909, 57360.0)\n",
      "((16000, 1024, 32, 120), 2.096, 57360.0) ((16000, 1024, 64, 80), 2.912, 19040.0) ((48000, 2048, 64, 120), 2.902, 88080.0)\n",
      "((16000, 1024, 32, 80), 2.071, 38240.0) ((16000, 1024, 64, 120), 2.907, 28560.0) ((32000, 2048, 32, 80), 2.869, 76640.0)\n",
      "((48000, 2048, 32, 120), 2.07, 176400.0) ((16000, 1024, 64, 100), 2.903, 23800.0) ((32000, 2048, 32, 120), 2.837, 114960.0)\n",
      "((16000, 1024, 64, 80), 2.068, 19040.0) ((48000, 2048, 32, 80), 2.868, 117600.0) ((16000, 1024, 32, 120), 2.826, 57360.0)\n",
      "((32000, 2048, 64, 80), 2.044, 38240.0) ((32000, 2048, 32, 80), 2.859, 76640.0) ((32000, 2048, 64, 100), 2.814, 47800.0)\n",
      "((48000, 2048, 64, 80), 2.023, 58720.0) ((48000, 2048, 32, 100), 2.856, 147000.0) ((48000, 2048, 32, 120), 2.802, 176400.0)\n",
      "((48000, 2048, 64, 100), 1.981, 73400.0) ((48000, 2048, 64, 80), 2.843, 58720.0) ((48000, 2048, 32, 100), 2.8, 147000.0)\n"
     ]
    }
   ],
   "source": [
    "for i in range(10):\n",
    "    print(top_gl[i], top_gl10[i], top_gl20[i])"
   ]
  },
  {
   "cell_type": "markdown",
   "metadata": {},
   "source": [
    "10 iterations of Griffin-Lim are worth about 1 point on the PESQ scale.\n",
    "\n",
    "An improvement of 2 to 3 is huge and you can tell when you listen to the output.\n",
    "\n",
    "(48000, 2048, 64, 100) is top of both 10 and 20 iteration GL and has 73400 parameters ie (100, 734) for a 1 second of audio."
   ]
  },
  {
   "cell_type": "markdown",
   "metadata": {},
   "source": [
    "## Test 'shortening'\n",
    "The MEL implementation we are using has the option to 'shorten' the produced 2D array by zooming it.\n",
    "\n",
    "This reduces the number of parameters in the MEL output but at the loss of some information.\n",
    "\n",
    "The following tests try different shortening factors on the basic parameters of (48000, 2048, 64, 100)"
   ]
  },
  {
   "cell_type": "code",
   "execution_count": 20,
   "metadata": {},
   "outputs": [
    {
     "name": "stdout",
     "output_type": "stream",
     "text": [
      "1/1. sr: 48000, size: 2048, step: 64, n_mels: 100 = (100, 734), -4.0,-7.708015540945634e-13\n",
      "Test: 48000 2048 64 100 = 2.978\n",
      "1/1. sr: 48000, size: 2048, step: 64, n_mels: 100 = (100, 366), -4.086615085601807,-0.00026292112306691706\n",
      "Scaling output wav length (47872) to match original wav length (48000)\n",
      "Test: 48000 2048 64 100 = 2.983\n",
      "1/1. sr: 48000, size: 2048, step: 64, n_mels: 100 = (100, 182), -4.090807914733887,-0.0029260225128382444\n",
      "Scaling output wav length (47616) to match original wav length (48000)\n",
      "Test: 48000 2048 64 100 = 3.113\n",
      "1/1. sr: 48000, size: 2048, step: 64, n_mels: 100 = (100, 90), -4.083613872528076,-0.014429043047130108\n",
      "Scaling output wav length (47104) to match original wav length (48000)\n",
      "Test: 48000 2048 64 100 = 3.107\n"
     ]
    },
    {
     "name": "stderr",
     "output_type": "stream",
     "text": [
      "c:\\users\\benhe\\.conda\\envs\\homl2\\lib\\site-packages\\scipy\\ndimage\\interpolation.py:583: UserWarning: From scipy 0.13.0, the output shape of zoom() is calculated with round() instead of int() - for these inputs the size of the returned array has changed.\n",
      "  \"the returned array has changed.\", UserWarning)\n"
     ]
    },
    {
     "name": "stdout",
     "output_type": "stream",
     "text": [
      "1/1. sr: 48000, size: 2048, step: 64, n_mels: 100 = (100, 72), -4.081106662750244,-0.0008944268338382244\n",
      "Scaling output wav length (47104) to match original wav length (48000)\n",
      "Test: 48000 2048 64 100 = 3.204\n"
     ]
    }
   ],
   "source": [
    "gl10s_output_dir = os.path.join(base_output_dir, \"griffin_lim_10_short\")\n",
    "os.makedirs(gl10s_output_dir, exist_ok=True)\n",
    "\n",
    "n_iterations = 10\n",
    "sr_param = [48000]\n",
    "fft_param = [2048]\n",
    "step_param = [64]\n",
    "n_mel_param = [100]\n",
    "\n",
    "shorten_factors = [1,2,4,8,10]\n",
    "shorten_results = []\n",
    "\n",
    "for factor in shorten_factors:\n",
    "\n",
    "    shorten_output_file_base = f\"{output_file_base}_{factor}\"\n",
    "    \n",
    "    def wmc_s_wav_to_log_pow_mel(orig_wav, sr, fft_size, n_mels, step_size):\n",
    "\n",
    "        conv = wmc.WavMelConverter(fft_size=fft_size, fft_step_size=step_size, spec_thresh=4, \n",
    "                        mel_n_freq_comps=n_mels, mel_start_freq=300, mel_end_freq=8000,\n",
    "                        shorten_factor=factor, griffin_lim_iterations=n_iterations,\n",
    "                        target_sample_rate=16000)\n",
    "\n",
    "        conv.load_wav_data(orig_wav, sr)\n",
    "        return conv.mel_spectrogram\n",
    "\n",
    "    def wmc_s_log_pow_mel_to_wav(log_pow_mel, sr, fft_size, n_mels, step_size):\n",
    "\n",
    "        conv = wmc.WavMelConverter(fft_size=fft_size, fft_step_size=step_size, spec_thresh=4, \n",
    "                        mel_n_freq_comps=n_mels, mel_start_freq=300, mel_end_freq=8000,\n",
    "                        shorten_factor=factor, griffin_lim_iterations=n_iterations,\n",
    "                        target_sample_rate=16000)\n",
    "\n",
    "        conv.load_mel_data(log_pow_mel, sr)\n",
    "        T = conv.wav    \n",
    "        return T\n",
    "\n",
    "    gl10s_results, gl10s_shapes = test_wav_to_mel_to_wav(test_file,shorten_output_file_base, gl10s_output_dir, \\\n",
    "                                          wmc_s_wav_to_log_pow_mel, wmc_s_log_pow_mel_to_wav, \\\n",
    "                                          sr_param, fft_param, step_param, n_mel_param, pesq_path) \n",
    "    \n",
    "    shorten_results.append((gl10s_results, gl10s_shapes))"
   ]
  },
  {
   "cell_type": "code",
   "execution_count": 21,
   "metadata": {},
   "outputs": [
    {
     "name": "stdout",
     "output_type": "stream",
     "text": [
      "Shorten factor, MOS, no. params\n",
      "1 2.978 73400\n",
      "2 2.983 36600\n",
      "4 3.113 18200\n",
      "8 3.107 9000\n",
      "10 3.204 7200\n"
     ]
    }
   ],
   "source": [
    "print(\"Shorten factor, MOS, no. params\")\n",
    "for i, res in enumerate(shorten_results):\n",
    "    print(shorten_factors[i], res[0].flat[0], int(res[1].flat[0]))"
   ]
  },
  {
   "cell_type": "markdown",
   "metadata": {},
   "source": [
    "Compressing the 2D MEL params by up to a factor 10 bumps up the MOS, and perceptually they sound the same.\n",
    "\n",
    "The large reduction in parameters should make the model quicker to train"
   ]
  },
  {
   "cell_type": "markdown",
   "metadata": {},
   "source": [
    "# Conclusion\n",
    "\n",
    "- Upscaling the wav file to 48kHz improves results when converting back from MEL to wav, even when the output is resampled back to 16kHz.\n",
    "- 10 iterations of the Griffin-Lim algorithm improves PESQ score by ~1 point, from 2.2 to 3.0, and sounds mcuh better.\n",
    "- 'Shortening' the resulting MEL spectrogram reduces the number of variables without affecting PESQ score. Greater than a factor of 10 there are internal errors with mis-sized arrays that are non-trivial to fix.\n",
    "\n",
    "\n",
    "Parameter seaching shows the best parameters are: \n",
    "- Sample rate: 48000\n",
    "- FFT size: 2048\n",
    "- Windows step: 64\n",
    "- Number of MEL bins: 100\n",
    "- GL iterations: 10\n",
    "- Shortening factor: 10"
   ]
  },
  {
   "cell_type": "code",
   "execution_count": null,
   "metadata": {},
   "outputs": [],
   "source": []
  }
 ],
 "metadata": {
  "kernelspec": {
   "display_name": "Python 3",
   "language": "python",
   "name": "python3"
  },
  "language_info": {
   "codemirror_mode": {
    "name": "ipython",
    "version": 3
   },
   "file_extension": ".py",
   "mimetype": "text/x-python",
   "name": "python",
   "nbconvert_exporter": "python",
   "pygments_lexer": "ipython3",
   "version": "3.6.7"
  }
 },
 "nbformat": 4,
 "nbformat_minor": 2
}
